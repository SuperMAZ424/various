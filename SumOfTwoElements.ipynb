{
  "nbformat": 4,
  "nbformat_minor": 0,
  "metadata": {
    "colab": {
      "provenance": []
    },
    "kernelspec": {
      "name": "python3",
      "display_name": "Python 3"
    },
    "language_info": {
      "name": "python"
    }
  },
  "cells": [
    {
      "cell_type": "code",
      "execution_count": null,
      "metadata": {
        "colab": {
          "base_uri": "https://localhost:8080/",
          "height": 105
        },
        "id": "QPmvGID90Mdz",
        "outputId": "76d31083-8833-408c-af99-599677c156f9"
      },
      "outputs": [
        {
          "output_type": "stream",
          "name": "stdout",
          "text": [
            "(5, 12)\n"
          ]
        },
        {
          "output_type": "execute_result",
          "data": {
            "text/plain": [
              "\"Of course! Here's an example input:\\n\\nList: \\nTarget value: 17\\n\\nLet me know if you need any further clarification.\""
            ],
            "application/vnd.google.colaboratory.intrinsic+json": {
              "type": "string"
            }
          },
          "metadata": {},
          "execution_count": 8
        }
      ],
      "source": [
        "def ret(lst, num):\n",
        "    for i in lst:\n",
        "        for j in lst:\n",
        "            if i + j == num:\n",
        "                return (i, j)\n",
        "\n",
        "print(ret([3, 5, 8, 9, 12, 15],17))"
      ]
    }
  ]
}