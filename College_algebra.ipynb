{
  "cells": [
    {
      "cell_type": "code",
      "execution_count": null,
      "metadata": {
        "colab": {
          "base_uri": "https://localhost:8080/"
        },
        "id": "VEkOXqA_7tCW",
        "outputId": "5b9542ff-d181-4c2a-b2b1-a89f7d5523b4"
      },
      "outputs": [
        {
          "output_type": "stream",
          "name": "stdout",
          "text": [
            "X1= 8.732050807568877, X2= 5.267949192431123\n",
            "X1= 7.0+ sqrt(12.0)/2.0, X2= 7.0- sqrt(12.0)/2.0\n"
          ]
        }
      ],
      "source": [
        "# solve the quadratic function\n",
        "\n",
        "# aX²+bX+c\n",
        "# enter the coefficients\n",
        "import sympy\n",
        "def solve_QF(a,b,c):\n",
        "    \n",
        "    under_root= (b**2)-(4*a*c)\n",
        "    X1 = (-b+abs(under_root**0.5))/(2*a)\n",
        "    X2 = (-b-abs(under_root**0.5))/(2*a)\n",
        "    X1_1 = (-b)/(2*a)\n",
        "    if under_root >= 0:\n",
        "               \n",
        "        print('X1= %s, X2= %s' %(X1,X2))\n",
        "        print(\"X1= %s+ sqrt(%s)/%s, X2= %s- sqrt(%s)/%s\" %(X1_1,under_root,2*a,X1_1,under_root,2*a))\n",
        "    elif under_root < 0:\n",
        "        print('X1= %s, X2= %s' %(X1,X2))\n",
        "        print(\"X1= %s+ sqrt(%s)/%s i, X2= %s- sqrt(%s)/%s i\" %(X1_1,abs(under_root),2*a,X1_1,abs(under_root),2*a))\n",
        "    else:\n",
        "        print('formula has no solution')\n",
        "\n",
        "solve_QF(1.0,-14.0,46.0)"
      ]
    },
    {
      "cell_type": "code",
      "execution_count": null,
      "metadata": {
        "colab": {
          "base_uri": "https://localhost:8080/"
        },
        "id": "7PfO09TFBmrD",
        "outputId": "562e83c5-6dec-480b-da0d-ec8c6817f226"
      },
      "outputs": [
        {
          "name": "stdout",
          "output_type": "stream",
          "text": [
            "vertex point is (0.0 , 4.0)\n"
          ]
        }
      ],
      "source": [
        "# find vertex of quadratic function\n",
        "import matplotlib as plt\n",
        "\n",
        "def find_vertex(a,b,c):\n",
        "    Vx = (-b)/(2.0*a)\n",
        "    Vy = a*(Vx**2) + b*(Vx) + c\n",
        "    print('vertex point is (%s , %s)' %(Vx,Vy))\n",
        " \n",
        "\n",
        "\n",
        "\n",
        "find_vertex(-1.0,0.0,4.0)"
      ]
    },
    {
      "cell_type": "code",
      "execution_count": null,
      "metadata": {
        "id": "KiSOTGPVPC6D"
      },
      "outputs": [],
      "source": [
        "#determine the quadratic function given vertex and another point\n",
        "def Quad_func(Xv,Yv,X,Y):\n",
        "  a = (Y-Yv)/((x-Xv)**2)\n",
        "  print(\"%s(X-%s)^2 + %s\" %(a,Xv,Yv))\n",
        "  "
      ]
    },
    {
      "cell_type": "code",
      "execution_count": null,
      "metadata": {
        "colab": {
          "base_uri": "https://localhost:8080/"
        },
        "id": "dvPDmvyVez6e",
        "outputId": "1b31bd73-9acf-4b32-ac66-54332a4d95a4"
      },
      "outputs": [
        {
          "name": "stdout",
          "output_type": "stream",
          "text": [
            "-38\n",
            "-2\n",
            "12.0\n"
          ]
        }
      ],
      "source": [
        "'''\n",
        "def create_list(x,y,d):\n",
        "  res = []\n",
        "  while x < y :\n",
        "    res.append(round(x,2))\n",
        "    x +=d\n",
        "  return(res)\n",
        "m = create_list(-10.0,10.0,1.0)\n",
        "\n",
        "for x in m:\n",
        "  y = ((-2)*(abs(x+3))) -5\n",
        "  print(x,y)\n",
        "'''\n",
        "y1 = (3*((-2)**3))-(3*((-2)**2))-2\n",
        "print(y1)\n",
        "y2 = (3*(1**3))-(3*(1**2))-2\n",
        "print(y2)\n",
        "print((y2-y1)/(1+2))"
      ]
    },
    {
      "cell_type": "code",
      "source": [
        "\n"
      ],
      "metadata": {
        "id": "qePoSFTAE6sf"
      },
      "execution_count": null,
      "outputs": []
    },
    {
      "cell_type": "code",
      "source": [
        "import math \n",
        "\n",
        "def deg_to_rad(x):\n",
        "  return x * math.pi / 180\n",
        "\n",
        "def rad_to_deg(x):\n",
        "  return x * 180 / math.pi\n",
        "\n",
        "def solve_tri(s1=0.0, s2=0.0, s3=0.0, a1=0.0, a2=0.0, a3=0.0):\n",
        "    angles = 0\n",
        "    if s1 and s2 and s3:\n",
        "        a1 = rad_to_deg(math.acos((((s3 ** 2) + (s2 ** 2) - (s1 ** 2)) / (2 * s3 * s2))))\n",
        "        a2 = rad_to_deg(math.acos((((s3 ** 2) + (s1 ** 2) - (s2 ** 2)) / (2 * s3 * s1))))\n",
        "        a3 = rad_to_deg(math.acos((((s1 ** 2) + (s2 ** 2) - (s3 ** 2)) / (2 * s1 * s2))))\n",
        "\n",
        "    elif s1 and s2 and a3:\n",
        "        a3 = deg_to_rad(a3)\n",
        "        s3 = math.sqrt((s1 ** 2) + (s2 ** 2) - (2 * s1 * s2 * math.cos(a3)))\n",
        "        a2 = math.asin(s2 * (math.sin(a3) / s3))\n",
        "        a2 = rad_to_deg(a2)\n",
        "        a1 = math.asin(s1 * (math.sin(a3) / s3))\n",
        "        a1 = rad_to_deg(a1)\n",
        "        a3 = rad_to_deg(a3)\n",
        "\n",
        "    elif a1 and a2 and s3:\n",
        "        a3 = 180 - (a1 + a2)\n",
        "        a1, a2, a3 = [*map(deg_to_rad,(a1, a2, a3))]\n",
        "        s1 = (s3 * math.sin(a1)) / math.sin(a3)\n",
        "        s2 = (s3 * math.sin(a2)) / math.sin(a3)\n",
        "        angles = [*map(rad_to_deg, [a1, a2, a3])]\n",
        "        angles = [*map(round, angles, (1, 1, 1))]\n",
        "\n",
        "    sides = [*map(round, (s1, s2, s3), (1, 1, 1))]\n",
        "\n",
        "    if not angles:\n",
        "        angles = [*map(round, [a1, a2, a3], [1, 1, 1])]\n",
        "\n",
        "    if sum(angles) < 179:\n",
        "        angles[angles.index(max(angles))] = 180 - max(angles)\n",
        "        print(sides, '\\n'+ str(angles), sum(angles))\n",
        "\n",
        "    else:\n",
        "        print(sides, '\\n'+ str(angles), sum(angles))\n",
        "\n",
        "\n",
        "solve_tri(s1=46, s2=57, a3=89.6)"
      ],
      "metadata": {
        "colab": {
          "base_uri": "https://localhost:8080/"
        },
        "id": "7QGI6BbYErBc",
        "outputId": "c795d1b6-9465-4585-d054-60fa49fa2e41"
      },
      "execution_count": null,
      "outputs": [
        {
          "output_type": "stream",
          "name": "stdout",
          "text": [
            "[51, 57, 76.2] \n",
            "[42.0, 48.4, 89.6] 180.0\n"
          ]
        }
      ]
    },
    {
      "cell_type": "code",
      "source": [
        "def calc_int(mny, r, n,t):\n",
        "  n_t = float(n*t)\n",
        "  r_n = float(r/n)\n",
        "  res = mny*((1+r_n)**n_t)\n",
        "  return res\n",
        "print(round(calc_int(8000.0, 0.195,12.0,7.0),2))"
      ],
      "metadata": {
        "colab": {
          "base_uri": "https://localhost:8080/"
        },
        "id": "oD0Cu43uYYev",
        "outputId": "00adbd50-8ded-49d6-ca0f-bda61bb1c957"
      },
      "execution_count": null,
      "outputs": [
        {
          "output_type": "stream",
          "name": "stdout",
          "text": [
            "30983.96\n"
          ]
        }
      ]
    }
  ],
  "metadata": {
    "colab": {
      "provenance": []
    },
    "kernelspec": {
      "display_name": "Python 3",
      "name": "python3"
    },
    "language_info": {
      "name": "python"
    }
  },
  "nbformat": 4,
  "nbformat_minor": 0
}